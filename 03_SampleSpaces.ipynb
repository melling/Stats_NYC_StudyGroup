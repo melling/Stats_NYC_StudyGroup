{
  "nbformat": 4,
  "nbformat_minor": 0,
  "metadata": {
    "colab": {
      "name": "03_SampleSpaces.ipynb",
      "provenance": [],
      "authorship_tag": "ABX9TyPFKcp2HLlOIRjplWGHkodQ",
      "include_colab_link": true
    },
    "kernelspec": {
      "name": "python3",
      "display_name": "Python 3"
    },
    "language_info": {
      "name": "python"
    }
  },
  "cells": [
    {
      "cell_type": "markdown",
      "metadata": {
        "id": "view-in-github",
        "colab_type": "text"
      },
      "source": [
        "<a href=\"https://colab.research.google.com/github/melling/Stats_NYC_StudyGroup/blob/main/03_SampleSpaces.ipynb\" target=\"_parent\"><img src=\"https://colab.research.google.com/assets/colab-badge.svg\" alt=\"Open In Colab\"/></a>"
      ]
    },
    {
      "cell_type": "markdown",
      "metadata": {
        "id": "enbrFUhphInj"
      },
      "source": [
        "# Sample Spaces - $\\Omega$\n",
        "\n",
        "Capital greek letter omega is used in formulas to represent a sample space."
      ]
    },
    {
      "cell_type": "markdown",
      "metadata": {
        "id": "cAg8pHxHhdhw"
      },
      "source": [
        "## Tossing Coins\n",
        "\n",
        "Toss a fair a fair coin once. The sample space is:\n",
        "$\\Omega = \\{H,T\\}$\n",
        "\n",
        "Toss a fair a fair coin twice. The sample space is:\n",
        "$\\Omega = \\{HH,HT,TH,TT\\}$"
      ]
    },
    {
      "cell_type": "markdown",
      "metadata": {
        "id": "GRZeVGr7iaV-"
      },
      "source": [
        "## Rolling Dice\n",
        "\n",
        "Roll one die. $\\Omega = \\{1,2,3,4,5,6\\}$\n",
        "\n",
        "Roll two dice. $\\Omega = \\{11,12,13,14,15,16, 21,22, \\dots, 66\\}$"
      ]
    },
    {
      "cell_type": "code",
      "metadata": {
        "id": "xcckMbddgvHh"
      },
      "source": [
        ""
      ],
      "execution_count": null,
      "outputs": []
    }
  ]
}