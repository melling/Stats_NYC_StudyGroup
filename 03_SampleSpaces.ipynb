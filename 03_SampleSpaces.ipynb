{
  "nbformat": 4,
  "nbformat_minor": 0,
  "metadata": {
    "colab": {
      "name": "03_SampleSpaces.ipynb",
      "provenance": [],
      "collapsed_sections": [],
      "authorship_tag": "ABX9TyM/4nzO8sKOj4F77x5wG5mU",
      "include_colab_link": true
    },
    "kernelspec": {
      "name": "python3",
      "display_name": "Python 3"
    },
    "language_info": {
      "name": "python"
    }
  },
  "cells": [
    {
      "cell_type": "markdown",
      "metadata": {
        "id": "view-in-github",
        "colab_type": "text"
      },
      "source": [
        "<a href=\"https://colab.research.google.com/github/melling/Stats_NYC_StudyGroup/blob/main/03_SampleSpaces.ipynb\" target=\"_parent\"><img src=\"https://colab.research.google.com/assets/colab-badge.svg\" alt=\"Open In Colab\"/></a>"
      ]
    },
    {
      "cell_type": "markdown",
      "metadata": {
        "id": "enbrFUhphInj"
      },
      "source": [
        "# Sample Spaces - $\\Omega$\n",
        "\n",
        "A **sample space** the set of all possible outcomes or results of that experiment.\n",
        "\n",
        "Capital greek letter omega is used in formulas to represent a sample space."
      ]
    },
    {
      "cell_type": "markdown",
      "metadata": {
        "id": "cAg8pHxHhdhw"
      },
      "source": [
        "## Tossing Coins\n",
        "\n",
        "Toss a fair a fair coin once. The sample space:\n",
        "$\\Omega = \\{H,T\\}$\n",
        "\n",
        "Toss a fair a fair coin twice. The sample space:\n",
        "$\\Omega = \\{HH,HT,TH,TT\\}$"
      ]
    },
    {
      "cell_type": "markdown",
      "metadata": {
        "id": "GRZeVGr7iaV-"
      },
      "source": [
        "## Rolling Dice\n",
        "\n",
        "Roll one die. $\\Omega = \\{1,2,3,4,5,6\\}$\n",
        "\n",
        "Roll two dice. $\\Omega = \\{11,12,13,14,15,16, 21,22, \\dots, 66\\}$"
      ]
    },
    {
      "cell_type": "markdown",
      "metadata": {
        "id": "rMNz_0xim-kX"
      },
      "source": [
        "# Events"
      ]
    },
    {
      "cell_type": "markdown",
      "metadata": {
        "id": "ygexGFqunGsl"
      },
      "source": [
        "Sample spaces are sets. Events are subsets of sample spaces.\n",
        "If $\\Omega$ is a sample space and $A \\subseteq \\Omega$, we call A an event."
      ]
    },
    {
      "cell_type": "code",
      "metadata": {
        "id": "BobooLpenFxD"
      },
      "source": [
        ""
      ],
      "execution_count": null,
      "outputs": []
    },
    {
      "cell_type": "code",
      "metadata": {
        "id": "xcckMbddgvHh"
      },
      "source": [
        ""
      ],
      "execution_count": 1,
      "outputs": []
    },
    {
      "cell_type": "code",
      "metadata": {
        "id": "DvKDRKXWmFAc"
      },
      "source": [
        ""
      ],
      "execution_count": null,
      "outputs": []
    },
    {
      "cell_type": "markdown",
      "metadata": {
        "id": "0-fDMrZOmPKO"
      },
      "source": [
        "## Exercises"
      ]
    },
    {
      "cell_type": "code",
      "metadata": {
        "id": "QTH8VapCmPz-"
      },
      "source": [
        ""
      ],
      "execution_count": null,
      "outputs": []
    },
    {
      "cell_type": "markdown",
      "metadata": {
        "id": "T_Qc7xsSmh83"
      },
      "source": [
        "## References\n",
        "\n",
        "- https://en.wikipedia.org/wiki/Sample_space\n",
        "- https://statistics.ucdavis.edu/expanded-descriptions/131A"
      ]
    }
  ]
}